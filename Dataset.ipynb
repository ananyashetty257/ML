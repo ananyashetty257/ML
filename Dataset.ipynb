{
 "cells": [
  {
   "cell_type": "code",
   "execution_count": null,
   "id": "87541587-1cb1-4f5e-9cf5-aa419a891d7c",
   "metadata": {},
   "outputs": [],
   "source": [
    "DATASET:\n",
    "\n",
    "User_ID – Unique identifier for customers.\n",
    "Product_ID – Unique identifier for products.\n",
    "Category – The product category (e.g., Sports, Clothing, Beauty, etc.).\n",
    "Price (Rs.) – The original price of the product.\n",
    "Discount (%) – Discount applied on the product.\n",
    "Final_Price (Rs.) – The price after applying the discount.\n",
    "Payment_Method – The mode of payment (e.g., Net Banking, Credit Card, UPI).\n",
    "Unnamed: 7 – Completely empty column (can be dropped)."
   ]
  },
  {
   "cell_type": "code",
   "execution_count": null,
   "id": "0e01eefa-4082-40af-ae75-35c7702fab19",
   "metadata": {},
   "outputs": [],
   "source": [
    "BEST MODEL:\n",
    "\n",
    "Best Model: Random Forest Regression \n",
    "Why Random Forest Regression?\n",
    " Handles Non-Linearity: Unlike Linear Regression, which assumes a straight-line relationship, Random Forest can capture complex patterns in data (e.g., discounts affecting different categories differently).\n",
    "\n",
    " Works Well with Categorical Data: Your dataset has Category and Payment_Method, which aren't purely numerical. Random Forest can handle mixed data types efficiently.\n",
    "\n",
    " Prevents Overfitting: Neural Networks tend to overfit on small datasets, but Random Forest uses multiple decision trees to generalize well.\n",
    "\n",
    " Better Accuracy & Interpretability: While Neural Networks are powerful, they require a lot of tuning and data. Random Forest performs well with minimal tuning and provides feature importance insights.\n",
    "\n",
    " Conclusion: Random Forest Regression is the best choice because it balances accuracy, interpretability, and flexibility while handling non-linear relationships in your dataset. Would you like me to implement it and show the results?"
   ]
  }
 ],
 "metadata": {
  "kernelspec": {
   "display_name": "Python 3 (ipykernel)",
   "language": "python",
   "name": "python3"
  },
  "language_info": {
   "codemirror_mode": {
    "name": "ipython",
    "version": 3
   },
   "file_extension": ".py",
   "mimetype": "text/x-python",
   "name": "python",
   "nbconvert_exporter": "python",
   "pygments_lexer": "ipython3",
   "version": "3.13.2"
  }
 },
 "nbformat": 4,
 "nbformat_minor": 5
}
